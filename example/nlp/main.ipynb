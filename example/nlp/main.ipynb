{
 "cells": [
  {
   "cell_type": "code",
   "execution_count": null,
   "metadata": {},
   "outputs": [],
   "source": [
    "from merak.point import Point\n",
    "from merak.hnsw import HNSW\n",
    "import os\n",
    "import pathlib\n",
    "import numpy as np"
   ]
  },
  {
   "cell_type": "code",
   "execution_count": null,
   "metadata": {},
   "outputs": [],
   "source": [
    "# hnsw声明\n",
    "hnsw = HNSW()"
   ]
  },
  {
   "cell_type": "code",
   "execution_count": null,
   "metadata": {},
   "outputs": [],
   "source": [
    "# 导入数据\n",
    "data_path=\"\"\n",
    "id = 0\n",
    "for file in os.listdir(data_path):\n",
    "    arr = np.load(data_path+file)\n",
    "    for i in range(len(arr[\"vector\"])):\n",
    "        id+=1\n",
    "        p = Point(id,arr[\"vector\"][i],{},text=arr[\"text\"][i])\n",
    "        hnsw.insert(p)"
   ]
  },
  {
   "cell_type": "code",
   "execution_count": null,
   "metadata": {},
   "outputs": [],
   "source": [
    "# 文本搜索\n",
    "from transformers import AlbertModel, BertTokenizer\n",
    "text = \"\"\n",
    "tokenizer = BertTokenizer.from_pretrained(\"clue/albert_chinese_tiny\")\n",
    "model = AlbertModel.from_pretrained(\"clue/albert_chinese_tiny\")\n",
    "\n",
    "inputs = tokenizer([text], return_tensors=\"pt\",\n",
    "                               padding=True, truncation=True, max_length=512)\n",
    "outputs = model(**inputs)\n",
    "\n",
    "emb = outputs.pooler_output[0].numpy()\n",
    "\n",
    "p = Point(-1,emb,{})\n",
    "\n",
    "points = hnsw.knn_search(p,10,20)\n",
    "\n",
    "for p in points:\n",
    "    print(p.text)\n"
   ]
  }
 ],
 "metadata": {
  "kernelspec": {
   "display_name": "Python 3.8.10 64-bit",
   "language": "python",
   "name": "python3"
  },
  "language_info": {
   "codemirror_mode": {
    "name": "ipython",
    "version": 3
   },
   "file_extension": ".py",
   "mimetype": "text/x-python",
   "name": "python",
   "nbconvert_exporter": "python",
   "pygments_lexer": "ipython3",
   "version": "3.8.10"
  },
  "orig_nbformat": 4,
  "vscode": {
   "interpreter": {
    "hash": "31f2aee4e71d21fbe5cf8b01ff0e069b9275f58929596ceb00d14d90e3e16cd6"
   }
  }
 },
 "nbformat": 4,
 "nbformat_minor": 2
}
