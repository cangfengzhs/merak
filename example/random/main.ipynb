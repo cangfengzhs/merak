{
 "cells": [
  {
   "cell_type": "code",
   "execution_count": null,
   "metadata": {},
   "outputs": [],
   "source": [
    "from merak.point import Point\n",
    "from merak.hnsw import HNSW\n",
    "import os\n",
    "import numpy as np\n",
    "import json"
   ]
  },
  {
   "cell_type": "code",
   "execution_count": null,
   "metadata": {},
   "outputs": [],
   "source": [
    "# hnsw声明\n",
    "hnsw = HNSW()"
   ]
  },
  {
   "cell_type": "code",
   "execution_count": null,
   "metadata": {},
   "outputs": [],
   "source": [
    "# 导入数据\n",
    "data_path = \"\"\n",
    "for file in os.listdir(data_path):\n",
    "    if not file.endswith(\"npz\"):\n",
    "        continue\n",
    "    arr = np.load(data_path+file)\n",
    "    for i in range((len)):\n",
    "        id = arr[\"id\"][i]\n",
    "        vec = arr[\"vector\"][i]\n",
    "        p = Point(id,vec,{})\n",
    "        hnsw.insert(p)\n"
   ]
  },
  {
   "cell_type": "code",
   "execution_count": null,
   "metadata": {},
   "outputs": [],
   "source": [
    "# 搜索\n",
    "nearest=dict()\n",
    "with open(data_path+\"nearest.txt\") as f:\n",
    "    for line in f:\n",
    "        obj = json.loads(line)\n",
    "        nearest[obj[\"id\"]] = obj[\"neighbors\"]\n",
    "\n",
    "sum=0\n",
    "for id,neighbors in nearest.items():\n",
    "    p = Point(id,[],{})\n",
    "    points = hnsw.knn_search(p,len(neighbors),len(neighbors)*2)\n",
    "    count = 0\n",
    "    for q in points:\n",
    "        if q.id in neighbors:\n",
    "            count+=1\n",
    "    sum+=count/len(neighbors)\n",
    "\n",
    "accuracy = sum/len(nearest)\n",
    "\n",
    "print(accuracy)"
   ]
  }
 ],
 "metadata": {
  "kernelspec": {
   "display_name": "Python 3.8.10 64-bit",
   "language": "python",
   "name": "python3"
  },
  "language_info": {
   "name": "python",
   "version": "3.8.10"
  },
  "orig_nbformat": 4,
  "vscode": {
   "interpreter": {
    "hash": "31f2aee4e71d21fbe5cf8b01ff0e069b9275f58929596ceb00d14d90e3e16cd6"
   }
  }
 },
 "nbformat": 4,
 "nbformat_minor": 2
}
